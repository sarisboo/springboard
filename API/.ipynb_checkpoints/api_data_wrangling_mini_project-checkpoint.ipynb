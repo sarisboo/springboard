{
 "cells": [
  {
   "cell_type": "markdown",
   "metadata": {},
   "source": [
    "This exercise will require you to pull some data from the Qunadl API. Qaundl is currently the most widely used aggregator of financial market data."
   ]
  },
  {
   "cell_type": "markdown",
   "metadata": {},
   "source": [
    "As a first step, you will need to register a free account on the http://www.quandl.com website."
   ]
  },
  {
   "cell_type": "markdown",
   "metadata": {},
   "source": [
    "After you register, you will be provided with a unique API key, that you should store:"
   ]
  },
  {
   "cell_type": "code",
   "execution_count": 1,
   "metadata": {},
   "outputs": [],
   "source": [
    "# Store the API key as a string - according to PEP8, constants are always named in all upper case\n",
    "API_KEY = '9_y5X_mWA3Gx-pYtdNt7'"
   ]
  },
  {
   "cell_type": "markdown",
   "metadata": {},
   "source": [
    "Qaundl has a large number of data sources, but, unfortunately, most of them require a Premium subscription. Still, there are also a good number of free datasets."
   ]
  },
  {
   "cell_type": "markdown",
   "metadata": {},
   "source": [
    "For this mini project, we will focus on equities data from the Frankfurt Stock Exhange (FSE), which is available for free. We'll try and analyze the stock prices of a company called Carl Zeiss Meditec, which manufactures tools for eye examinations, as well as medical lasers for laser eye surgery: https://www.zeiss.com/meditec/int/home.html. The company is listed under the stock ticker AFX_X."
   ]
  },
  {
   "cell_type": "markdown",
   "metadata": {},
   "source": [
    "You can find the detailed Quandl API instructions here: https://docs.quandl.com/docs/time-series"
   ]
  },
  {
   "cell_type": "markdown",
   "metadata": {},
   "source": [
    "While there is a dedicated Python package for connecting to the Quandl API, we would prefer that you use the *requests* package, which can be easily downloaded using *pip* or *conda*. You can find the documentation for the package here: http://docs.python-requests.org/en/master/ "
   ]
  },
  {
   "cell_type": "markdown",
   "metadata": {},
   "source": [
    "Finally, apart from the *requests* package, you are encouraged to not use any third party Python packages, such as *pandas*, and instead focus on what's available in the Python Standard Library (the *collections* module might come in handy: https://pymotw.com/3/collections/ ).\n",
    "Also, since you won't have access to DataFrames, you are encouraged to us Python's native data structures - preferably dictionaries, though some questions can also be answered using lists.\n",
    "You can read more on these data structures here: https://docs.python.org/3/tutorial/datastructures.html"
   ]
  },
  {
   "cell_type": "markdown",
   "metadata": {},
   "source": [
    "Keep in mind that the JSON responses you will be getting from the API map almost one-to-one to Python's dictionaries. Unfortunately, they can be very nested, so make sure you read up on indexing dictionaries in the documentation provided above."
   ]
  },
  {
   "cell_type": "code",
   "execution_count": 95,
   "metadata": {},
   "outputs": [],
   "source": [
    "# First, import the relevant modules\n",
    "import requests\n",
    "import json\n",
    "import math"
   ]
  },
  {
   "cell_type": "code",
   "execution_count": 96,
   "metadata": {},
   "outputs": [],
   "source": [
    "# Now, call the Quandl API and pull out a small sample of the data (only one day) to get a glimpse\n",
    "# into the JSON structure that will be returned\n",
    "r = requests.get('https://www.quandl.com/api/v3/datasets/FSE/AFX_X/data.json?&'+API_KEY)\n"
   ]
  },
  {
   "cell_type": "code",
   "execution_count": 97,
   "metadata": {},
   "outputs": [
    {
     "name": "stdout",
     "output_type": "stream",
     "text": [
      "['2019-12-04', 108.6, 110.4, 108.5, 109.6, None, 91446.0, 10015437.0, None, None, None]\n"
     ]
    }
   ],
   "source": [
    "# Inspect the JSON structure of the object you created, and take note of how nested it is,\n",
    "# as well as the overall structure\n",
    "print(r.json()['dataset_data']['data'][0])"
   ]
  },
  {
   "cell_type": "code",
   "execution_count": 98,
   "metadata": {},
   "outputs": [
    {
     "name": "stdout",
     "output_type": "stream",
     "text": [
      "['Date', 'Open', 'High', 'Low', 'Close', 'Change', 'Traded Volume', 'Turnover', 'Last Price of the Day', 'Daily Traded Units', 'Daily Turnover']\n"
     ]
    }
   ],
   "source": [
    "print(r.json()['dataset_data']['column_names'])"
   ]
  },
  {
   "cell_type": "markdown",
   "metadata": {},
   "source": [
    "These are your tasks for this mini project:\n",
    "\n",
    "1. Collect data from the Franfurt Stock Exchange, for the ticker AFX_X, for the whole year 2017 (keep in mind that the date format is YYYY-MM-DD).\n",
    "2. Convert the returned JSON object into a Python dictionary.\n",
    "3. Calculate what the highest and lowest opening prices were for the stock in this period.\n",
    "4. What was the largest change in any one day (based on High and Low price)?\n",
    "5. What was the largest change between any two days (based on Closing Price)?\n",
    "6. What was the average daily trading volume during this year?\n",
    "7. (Optional) What was the median trading volume during this year. (Note: you may need to implement your own function for calculating the median.)"
   ]
  },
  {
   "cell_type": "code",
   "execution_count": 99,
   "metadata": {},
   "outputs": [],
   "source": [
    "# Collect data from the Franfurt Stock Exchange, for the ticker AFX_X, for the whole year 2017 (keep in mind that the date format is YYYY-MM-DD)\n",
    "r = requests.get('https://www.quandl.com/api/v3/datasets/FSE/AFX_X/data.json?start_date=2017-01-01&end_date=2017-12-31&api_key=9_y5X_mWA3Gx-pYtdNt7')"
   ]
  },
  {
   "cell_type": "code",
   "execution_count": 100,
   "metadata": {},
   "outputs": [
    {
     "name": "stdout",
     "output_type": "stream",
     "text": [
      "['2017-12-13', 52.64, 53.35, 52.48, 53.09, None, 128434.0, 6801159.0, None, None, None]\n"
     ]
    }
   ],
   "source": [
    "print(r.json()['dataset_data']['data'][10])"
   ]
  },
  {
   "cell_type": "code",
   "execution_count": 101,
   "metadata": {},
   "outputs": [],
   "source": [
    "# Convert the returned JSON object into a Python dictionary.\n",
    "FSE_AFX_2017 = dict(r.json())"
   ]
  },
  {
   "cell_type": "code",
   "execution_count": 102,
   "metadata": {},
   "outputs": [
    {
     "name": "stdout",
     "output_type": "stream",
     "text": [
      "['2017-12-29', 51.76, 51.94, 51.45, 51.76, None, 34640.0, 1792304.0, None, None, None]\n"
     ]
    }
   ],
   "source": [
    "print(FSE_AFX_2017['dataset_data']['data'][0])"
   ]
  },
  {
   "cell_type": "code",
   "execution_count": 103,
   "metadata": {},
   "outputs": [
    {
     "name": "stdout",
     "output_type": "stream",
     "text": [
      "53.11\n",
      "34.0\n"
     ]
    }
   ],
   "source": [
    "# Calculate what the highest and lowest opening prices were for the stock in this period\n",
    "highest_open_price = 0\n",
    "\n",
    "#Set a very high value unlikely to be reached \n",
    "lowest_open_price = 200000000\n",
    "for i in range(len(FSE_AFX_2017['dataset_data']['data'])):    \n",
    "    if FSE_AFX_2017['dataset_data']['data'][i][1] == None:\n",
    "        continue\n",
    "    elif FSE_AFX_2017['dataset_data']['data'][i][1] > highest_open_price:\n",
    "        highest_open_price = FSE_AFX_2017['dataset_data']['data'][i][1]\n",
    "        \n",
    "    if FSE_AFX_2017['dataset_data']['data'][i][1] < lowest_open_price:\n",
    "        lowest_open_price = FSE_AFX_2017['dataset_data']['data'][i][1]\n",
    "    \n",
    "print(highest_open_price)\n",
    "print(lowest_open_price)"
   ]
  },
  {
   "cell_type": "code",
   "execution_count": 104,
   "metadata": {},
   "outputs": [
    {
     "name": "stdout",
     "output_type": "stream",
     "text": [
      "2.8100000000000023\n"
     ]
    }
   ],
   "source": [
    "#What was the largest change in any one day (based on High and Low price)\n",
    "\n",
    "for i in range(len(FSE_AFX_2017['dataset_data']['data'])):\n",
    "    if FSE_AFX_2017['dataset_data']['data'][i][2] == None or FSE_AFX_2017['dataset_data']['data'][i][3]  == None:\n",
    "        continue\n",
    "        \n",
    "    if abs(FSE_AFX_2017['dataset_data']['data'][i][2] - FSE_AFX_2017['dataset_data']['data'][i][3]) > highest_difference:\n",
    "        highest_difference = abs(FSE_AFX_2017['dataset_data']['data'][i][2] - FSE_AFX_2017['dataset_data']['data'][i][3])\n",
    "        \n",
    "print(highest_difference)"
   ]
  },
  {
   "cell_type": "code",
   "execution_count": 105,
   "metadata": {},
   "outputs": [
    {
     "name": "stdout",
     "output_type": "stream",
     "text": [
      "19.03\n"
     ]
    }
   ],
   "source": [
    "# What was the largest change between any two days (based on Closing Price)\n",
    "largest_change = 0\n",
    "for i in range(len(FSE_AFX_2017['dataset_data']['data'])):\n",
    "    if FSE_AFX_2017['dataset_data']['data'][i][4] == None:\n",
    "        continue\n",
    "    for j in range(len(FSE_AFX_2017['dataset_data']['data'])-i):\n",
    "        if FSE_AFX_2017['dataset_data']['data'][j][4] == None:\n",
    "            continue\n",
    "        elif abs(FSE_AFX_2017['dataset_data']['data'][i][4]-FSE_AFX_2017['dataset_data']['data'][j][4]) > largest_change:\n",
    "            largest_change = abs(FSE_AFX_2017['dataset_data']['data'][i][4]-FSE_AFX_2017['dataset_data']['data'][j][4])\n",
    "            \n",
    "print(largest_change)  "
   ]
  },
  {
   "cell_type": "code",
   "execution_count": 106,
   "metadata": {},
   "outputs": [
    {
     "data": {
      "text/plain": [
       "89124.33725490196"
      ]
     },
     "execution_count": 106,
     "metadata": {},
     "output_type": "execute_result"
    }
   ],
   "source": [
    "# What was the average daily trading volume during this year index 6 \n",
    "total_trading_vol = 0\n",
    "count= 0 \n",
    "for i in range(len(FSE_AFX_2017['dataset_data']['data'])):\n",
    "    if FSE_AFX_2017['dataset_data']['data'][i][6] == None:\n",
    "        continue\n",
    "    else:\n",
    "        total_trading_vol += FSE_AFX_2017['dataset_data']['data'][i][6]\n",
    "        count += 1\n",
    "\n",
    "average = total_trading_vol/count\n",
    "average"
   ]
  },
  {
   "cell_type": "code",
   "execution_count": 107,
   "metadata": {},
   "outputs": [],
   "source": [
    "# Median Trading Volume \n",
    "def calculate_median(sequence):\n",
    "    '''\n",
    "    Caculates median value for any given sequence\n",
    "    '''\n",
    "    #Sorting sequence in ascending order\n",
    "    sequence = sorted(sequence)\n",
    "    if len(sequence)%2 != 0:\n",
    "        median = sequence[int((len(sequence))/2)]\n",
    "    elif len(sequence)%2 == 0:\n",
    "        median = sequence[(int(len(seq)/2-1))] + sequence[int((-len(seq)/2))] / 2\n",
    "        \n",
    "    return median\n",
    "    "
   ]
  },
  {
   "cell_type": "code",
   "execution_count": 108,
   "metadata": {},
   "outputs": [],
   "source": [
    "#Extracting the list of trading volume values \n",
    "trading_volumes = []\n",
    "for i in range(len(FSE_AFX_2017['dataset_data']['data'])):\n",
    "    if FSE_AFX_2017['dataset_data']['data'][i][6] == None:\n",
    "        continue\n",
    "    else:\n",
    "        trading_volumes.append(FSE_AFX_2017['dataset_data']['data'][i][6])\n",
    "    "
   ]
  },
  {
   "cell_type": "code",
   "execution_count": 109,
   "metadata": {},
   "outputs": [
    {
     "data": {
      "text/plain": [
       "76286.0"
      ]
     },
     "execution_count": 109,
     "metadata": {},
     "output_type": "execute_result"
    }
   ],
   "source": [
    "calculate_median(trading_volumes)"
   ]
  }
 ],
 "metadata": {
  "kernelspec": {
   "display_name": "Python 3",
   "language": "python",
   "name": "python3"
  },
  "language_info": {
   "codemirror_mode": {
    "name": "ipython",
    "version": 3
   },
   "file_extension": ".py",
   "mimetype": "text/x-python",
   "name": "python",
   "nbconvert_exporter": "python",
   "pygments_lexer": "ipython3",
   "version": "3.7.0"
  }
 },
 "nbformat": 4,
 "nbformat_minor": 2
}
