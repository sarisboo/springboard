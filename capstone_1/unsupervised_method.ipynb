{
 "cells": [
  {
   "cell_type": "code",
   "execution_count": 3,
   "metadata": {},
   "outputs": [],
   "source": [
    "import numpy as np\n",
    "import pandas as pd\n",
    "import warnings\n",
    "from sklearn import metrics\n",
    "import pickle\n",
    "import scipy.sparse\n",
    "import os\n",
    "from sklearn.cluster import KMeans\n",
    "from sklearn.metrics import adjusted_rand_score\n",
    "warnings.filterwarnings(\"ignore\")"
   ]
  },
  {
   "cell_type": "markdown",
   "metadata": {},
   "source": [
    "## Loading the datasets "
   ]
  },
  {
   "cell_type": "code",
   "execution_count": 4,
   "metadata": {},
   "outputs": [],
   "source": [
    "# Load sparse matrices\n",
    "tf_idf_vectors = scipy.sparse.load_npz('./datasets/train_sparse_matrix.npz')\n",
    "X_test_tfidf = scipy.sparse.load_npz('./datasets/test_sparse_matrix.npz')"
   ]
  },
  {
   "cell_type": "code",
   "execution_count": 5,
   "metadata": {},
   "outputs": [],
   "source": [
    "# Load tfidf feature names list\n",
    "# if file exists we have already pickled a list\n",
    "if os.path.isfile(\"tfidf_features.txt\"):\n",
    "    with open(\"tfidf_features.txt\", 'rb') as f:\n",
    "        tfidf_feature_names = pickle.load(f)"
   ]
  },
  {
   "cell_type": "code",
   "execution_count": 6,
   "metadata": {},
   "outputs": [],
   "source": [
    "#Load X_train and X_test\n",
    "X_train = pd.read_csv('./datasets/wikihow_X_train.csv') \n",
    "X_test = pd.read_csv('./datasets/wikihow_X_test.csv') "
   ]
  },
  {
   "cell_type": "code",
   "execution_count": 7,
   "metadata": {},
   "outputs": [],
   "source": [
    "#Load y_train and y_test \n",
    "y_train = pd.read_csv('./datasets/wikihow_y_train.csv', header = None) \n",
    "y_test = pd.read_csv('./datasets/wikihow_y_test.csv', header = None)"
   ]
  },
  {
   "cell_type": "markdown",
   "metadata": {},
   "source": [
    "## Reconstructing Dataframes for analysis "
   ]
  },
  {
   "cell_type": "code",
   "execution_count": 8,
   "metadata": {},
   "outputs": [],
   "source": [
    "X_train_ft = X_train[['sentence','sentence_len']]"
   ]
  },
  {
   "cell_type": "code",
   "execution_count": 9,
   "metadata": {},
   "outputs": [],
   "source": [
    "#Reshaping the sentence lengths array \n",
    "sent_lengths = np.array(X_train_ft['sentence_len'].values).reshape(-1, 1)"
   ]
  },
  {
   "cell_type": "code",
   "execution_count": 10,
   "metadata": {},
   "outputs": [],
   "source": [
    "#Converting sentence lengths array to sparse matrix\n",
    "sparse_sent_lengths = scipy.sparse.csr_matrix(sent_lengths)"
   ]
  },
  {
   "cell_type": "code",
   "execution_count": 11,
   "metadata": {},
   "outputs": [],
   "source": [
    "#Concatenating the two sparse arrays  \n",
    "X_train_feats = scipy.sparse.hstack([tf_idf_vectors,sparse_sent_lengths ])"
   ]
  },
  {
   "cell_type": "code",
   "execution_count": 12,
   "metadata": {},
   "outputs": [],
   "source": [
    "#Same with test set \n",
    "X_test_ft = X_test[['sentence','sentence_len']]"
   ]
  },
  {
   "cell_type": "code",
   "execution_count": 13,
   "metadata": {},
   "outputs": [],
   "source": [
    "#Reshaping the sentence lengths array \n",
    "sent_lengths_test = np.array(X_test_ft['sentence_len'].values).reshape(-1, 1)"
   ]
  },
  {
   "cell_type": "code",
   "execution_count": 14,
   "metadata": {},
   "outputs": [],
   "source": [
    "#Converting sentence lengths array to sparse matrix\n",
    "sparse_sent_lengths_test = scipy.sparse.csr_matrix(sent_lengths_test)"
   ]
  },
  {
   "cell_type": "code",
   "execution_count": 15,
   "metadata": {},
   "outputs": [],
   "source": [
    "#Concatenating the two sparse arrays  \n",
    "X_test_feats = scipy.sparse.hstack([X_test_tfidf,sparse_sent_lengths_test ])"
   ]
  },
  {
   "cell_type": "markdown",
   "metadata": {},
   "source": [
    "## Using KMeans for text clustering"
   ]
  },
  {
   "cell_type": "code",
   "execution_count": 18,
   "metadata": {},
   "outputs": [
    {
     "data": {
      "text/plain": [
       "KMeans(algorithm='auto', copy_x=True, init='k-means++', max_iter=100,\n",
       "       n_clusters=2, n_init=1, n_jobs=None, precompute_distances='auto',\n",
       "       random_state=None, tol=0.0001, verbose=0)"
      ]
     },
     "execution_count": 18,
     "metadata": {},
     "output_type": "execute_result"
    }
   ],
   "source": [
    "true_k = 2\n",
    "model = KMeans(n_clusters=true_k, init='k-means++', max_iter=100, n_init=1)\n",
    "model.fit(X_train_feats)"
   ]
  },
  {
   "cell_type": "code",
   "execution_count": 20,
   "metadata": {},
   "outputs": [],
   "source": [
    "predictions = model.predict(X_test_feats)"
   ]
  },
  {
   "cell_type": "markdown",
   "metadata": {},
   "source": [
    "## Measuring performance "
   ]
  },
  {
   "cell_type": "code",
   "execution_count": 23,
   "metadata": {},
   "outputs": [
    {
     "name": "stdout",
     "output_type": "stream",
     "text": [
      "Confusion Matrix: \n",
      " [[12477 12483]\n",
      " [  113  4927]]\n"
     ]
    }
   ],
   "source": [
    "print(f'Confusion Matrix: \\n {metrics.confusion_matrix(y_test, predictions)}')"
   ]
  },
  {
   "cell_type": "code",
   "execution_count": 25,
   "metadata": {},
   "outputs": [
    {
     "name": "stdout",
     "output_type": "stream",
     "text": [
      "Classification Report: \n",
      "\n",
      "               precision    recall  f1-score   support\n",
      "\n",
      "           0       0.99      0.50      0.66     24960\n",
      "           1       0.28      0.98      0.44      5040\n",
      "\n",
      "    accuracy                           0.58     30000\n",
      "   macro avg       0.64      0.74      0.55     30000\n",
      "weighted avg       0.87      0.58      0.63     30000\n",
      "\n"
     ]
    }
   ],
   "source": [
    "print(f'Classification Report: \\n\\n {metrics.classification_report(y_test, predictions)}')"
   ]
  },
  {
   "cell_type": "markdown",
   "metadata": {},
   "source": [
    "Compared to the supervised techniques, this method gives overall lower performance scores."
   ]
  },
  {
   "cell_type": "markdown",
   "metadata": {},
   "source": [
    "## Adding the sentence tf-idf score to see if the model performs better "
   ]
  },
  {
   "cell_type": "code",
   "execution_count": 39,
   "metadata": {},
   "outputs": [],
   "source": [
    "X_train_ft = X_train[['sentence_len', 'tfidf_score']]"
   ]
  },
  {
   "cell_type": "code",
   "execution_count": 40,
   "metadata": {},
   "outputs": [],
   "source": [
    "sent_tfidf = np.array(X_train_ft['tfidf_score'].values).reshape(-1, 1)"
   ]
  },
  {
   "cell_type": "code",
   "execution_count": 41,
   "metadata": {},
   "outputs": [],
   "source": [
    "#Converting sentence tfidf array to sparse matrix\n",
    "sparse_sent_tfidf = scipy.sparse.csr_matrix(sent_tfidf)"
   ]
  },
  {
   "cell_type": "code",
   "execution_count": 42,
   "metadata": {},
   "outputs": [
    {
     "data": {
      "text/plain": [
       "<70000x95347 sparse matrix of type '<class 'numpy.float64'>'\n",
       "\twith 1779327 stored elements in COOrdinate format>"
      ]
     },
     "execution_count": 42,
     "metadata": {},
     "output_type": "execute_result"
    }
   ],
   "source": [
    "X_train_feats_1 = scipy.sparse.hstack([X_train_feats ,sparse_sent_tfidf])\n",
    "X_train_feats_1"
   ]
  },
  {
   "cell_type": "code",
   "execution_count": 43,
   "metadata": {},
   "outputs": [],
   "source": [
    "#Same for test set\n",
    "X_test_ft = X_test[['sentence','tfidf_score']]\n",
    "sent_tfidf_score_test = np.array(X_test_ft['tfidf_score'].values).reshape(-1, 1)\n",
    "#Converting sentence tfidf array to sparse matrix\n",
    "sparse_sent_tfidf_score_test = scipy.sparse.csr_matrix(sent_tfidf_score_test)\n",
    "#Concatenating the two sparse arrays  \n",
    "X_test_feats_1 = scipy.sparse.hstack([X_test_feats,sparse_sent_tfidf_score_test])"
   ]
  },
  {
   "cell_type": "code",
   "execution_count": 44,
   "metadata": {},
   "outputs": [
    {
     "data": {
      "text/plain": [
       "KMeans(algorithm='auto', copy_x=True, init='k-means++', max_iter=100,\n",
       "       n_clusters=2, n_init=1, n_jobs=None, precompute_distances='auto',\n",
       "       random_state=None, tol=0.0001, verbose=0)"
      ]
     },
     "execution_count": 44,
     "metadata": {},
     "output_type": "execute_result"
    }
   ],
   "source": [
    "model_2 = KMeans(n_clusters=true_k, init='k-means++', max_iter=100, n_init=1)\n",
    "model_2.fit(X_train_feats_1)"
   ]
  },
  {
   "cell_type": "code",
   "execution_count": 46,
   "metadata": {},
   "outputs": [],
   "source": [
    "predictions_2 = model_2.predict(X_test_feats_1)"
   ]
  },
  {
   "cell_type": "code",
   "execution_count": 47,
   "metadata": {},
   "outputs": [
    {
     "name": "stdout",
     "output_type": "stream",
     "text": [
      "Confusion Matrix: \n",
      " [[12483 12477]\n",
      " [ 4927   113]]\n"
     ]
    }
   ],
   "source": [
    "print(f'Confusion Matrix: \\n {metrics.confusion_matrix(y_test, predictions_2)}')"
   ]
  },
  {
   "cell_type": "code",
   "execution_count": 48,
   "metadata": {},
   "outputs": [
    {
     "name": "stdout",
     "output_type": "stream",
     "text": [
      "Classification Report: \n",
      "\n",
      "               precision    recall  f1-score   support\n",
      "\n",
      "           0       0.72      0.50      0.59     24960\n",
      "           1       0.01      0.02      0.01      5040\n",
      "\n",
      "    accuracy                           0.42     30000\n",
      "   macro avg       0.36      0.26      0.30     30000\n",
      "weighted avg       0.60      0.42      0.49     30000\n",
      "\n"
     ]
    }
   ],
   "source": [
    "print(f'Classification Report: \\n\\n {metrics.classification_report(y_test, predictions_2)}')"
   ]
  },
  {
   "cell_type": "code",
   "execution_count": null,
   "metadata": {},
   "outputs": [],
   "source": []
  }
 ],
 "metadata": {
  "kernelspec": {
   "display_name": "Python 3",
   "language": "python",
   "name": "python3"
  },
  "language_info": {
   "codemirror_mode": {
    "name": "ipython",
    "version": 3
   },
   "file_extension": ".py",
   "mimetype": "text/x-python",
   "name": "python",
   "nbconvert_exporter": "python",
   "pygments_lexer": "ipython3",
   "version": "3.7.0"
  }
 },
 "nbformat": 4,
 "nbformat_minor": 2
}
