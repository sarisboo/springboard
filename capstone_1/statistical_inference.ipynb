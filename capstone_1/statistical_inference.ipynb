{
 "cells": [
  {
   "cell_type": "code",
   "execution_count": 222,
   "metadata": {},
   "outputs": [],
   "source": [
    "import numpy as np \n",
    "import pandas as pd \n",
    "import matplotlib.pyplot as plt\n",
    "#import warnings\n",
    "#warnings.simplefilter(action='ignore')\n",
    "import researchpy as rp\n",
    "import seaborn as sns\n",
    "sns.set(style=\"darkgrid\")"
   ]
  },
  {
   "cell_type": "code",
   "execution_count": 223,
   "metadata": {},
   "outputs": [],
   "source": [
    "wikihow = pd.read_csv('./datasets/wikihow_sep_features.csv')\n",
    "wikihow_subset = pd.read_csv('./datasets/wikihow_sep_subset.csv')"
   ]
  },
  {
   "cell_type": "markdown",
   "metadata": {},
   "source": [
    "## Testing the difference of means of sentence lengths (Bootstrapping) "
   ]
  },
  {
   "cell_type": "code",
   "execution_count": 259,
   "metadata": {},
   "outputs": [
    {
     "data": {
      "text/plain": [
       "Text(0.5, 1.0, 'Distribution of sentence lengths')"
      ]
     },
     "execution_count": 259,
     "metadata": {},
     "output_type": "execute_result"
    },
    {
     "data": {
      "image/png": "[encoded data removed]",
      "text/plain": [
       "<Figure size 1440x720 with 1 Axes>"
      ]
     },
     "metadata": {},
     "output_type": "display_data"
    }
   ],
   "source": [
    "only_summaries = wikihow[wikihow['is_summary'] == 'yes']['sentence_len']\n",
    "non_summary = wikihow[wikihow['is_summary'] == 'no']['sentence_len']\n",
    "plt.figure(figsize=(20,10))\n",
    "plt.hist(non_summary,bins = 90, normed=True,histtype=\"stepfilled\")\n",
    "plt.hist(only_summaries,bins = 90, normed=True,histtype=\"stepfilled\", color = 'red', alpha = 0.4)\n",
    "plt.axvline(wikihow['sentence_len'].median(), color = 'blue')\n",
    "plt.axvline(only_summaries.median(), color = 'red')\n",
    "plt.xlim((1, 80)) \n",
    "plt.xlabel('Lenght Category')\n",
    "plt.ylabel('Frequency')\n",
    "plt.legend(['All Sentences','Summaries'],loc = 'upper right')\n",
    "plt.title('Distribution of sentence lengths')"
   ]
  },
  {
   "cell_type": "code",
   "execution_count": 260,
   "metadata": {},
   "outputs": [],
   "source": [
    "# Compute the combined mean of the dataset\n",
    "combined_mean = np.mean(wikihow_subset['sentence_len'])\n",
    "\n",
    "# First shift the samples \n",
    "summary = wikihow_subset[wikihow_subset['is_summary'] == 'yes']['sentence_len'] - np.mean(wikihow_subset[wikihow_subset['is_summary'] == 'yes']['sentence_len']) + combined_mean\n",
    "no_summary = wikihow_subset[wikihow_subset['is_summary'] == 'no']['sentence_len'] - np.mean(wikihow_subset[wikihow_subset['is_summary'] == 'no']['sentence_len']) + combined_mean\n"
   ]
  },
  {
   "cell_type": "code",
   "execution_count": 261,
   "metadata": {},
   "outputs": [
    {
     "data": {
      "text/plain": [
       "100000"
      ]
     },
     "execution_count": 261,
     "metadata": {},
     "output_type": "execute_result"
    }
   ],
   "source": [
    "len(wikihow_subset)"
   ]
  },
  {
   "cell_type": "code",
   "execution_count": 227,
   "metadata": {},
   "outputs": [],
   "source": [
    "#Get bootstrap replicates for shifted data \n",
    "np.random.seed(47)\n",
    "N_rep = 10000\n",
    "\n",
    "#Initialize empty array of same size than reps\n",
    "bs_mean_diffs = np.empty(10000)\n",
    "\n",
    "for rep in range(N_rep):\n",
    "    \n",
    "    # Generate bootstrap sample: bs_sample\n",
    "    summarized = np.random.choice(summary, size=len(wikihow_subset))\n",
    "    no_sumarized = np.random.choice(no_summary, size=len(wikihow_subset))\n",
    "    bs_mean_summary = np.mean(summarized)\n",
    "    bs_mean_no_sumary = np.mean(no_sumarized)\n",
    "    \n",
    "    # Computing differences in means\n",
    "    bs_mean_diff = bs_mean_no_sumary - bs_mean_summary\n",
    "    bs_mean_diffs[rep] = bs_mean_diff"
   ]
  },
  {
   "cell_type": "code",
   "execution_count": 228,
   "metadata": {},
   "outputs": [
    {
     "data": {
      "text/plain": [
       "-0.03138515577714074"
      ]
     },
     "execution_count": 228,
     "metadata": {},
     "output_type": "execute_result"
    }
   ],
   "source": [
    "bs_mean_diff"
   ]
  },
  {
   "cell_type": "code",
   "execution_count": 229,
   "metadata": {},
   "outputs": [
    {
     "data": {
      "text/plain": [
       "array([-0.05234641,  0.05287559])"
      ]
     },
     "execution_count": 229,
     "metadata": {},
     "output_type": "execute_result"
    }
   ],
   "source": [
    "# Calculating confidence interval \n",
    "conf_int = np.percentile(bs_mean_diffs, [2.5, 97.5])\n",
    "conf_int"
   ]
  },
  {
   "cell_type": "code",
   "execution_count": 230,
   "metadata": {},
   "outputs": [
    {
     "data": {
      "text/plain": [
       "0.0"
      ]
     },
     "execution_count": 230,
     "metadata": {},
     "output_type": "execute_result"
    }
   ],
   "source": [
    "#Calculating the p-value\n",
    "mean_diff = np.mean(wikihow_subset[wikihow_subset['is_summary'] == 'no']['sentence_len']) - np.mean(wikihow_subset[wikihow_subset['is_summary'] == 'yes']['sentence_len'])\n",
    "# Compute the p-value\n",
    "p = np.sum(bs_mean_diffs >= mean_diff) / len(bs_mean_diffs)\n",
    "p"
   ]
  },
  {
   "cell_type": "code",
   "execution_count": 231,
   "metadata": {},
   "outputs": [
    {
     "data": {
      "text/plain": [
       "array([-0.07061516,  0.00140484,  0.00306484, ...,  0.00485484,\n",
       "       -0.01776516, -0.03138516])"
      ]
     },
     "execution_count": 231,
     "metadata": {},
     "output_type": "execute_result"
    }
   ],
   "source": [
    "bs_mean_diffs"
   ]
  },
  {
   "cell_type": "code",
   "execution_count": 232,
   "metadata": {},
   "outputs": [
    {
     "data": {
      "image/png": "[encoded data removed]",
      "text/plain": [
       "<Figure size 432x288 with 1 Axes>"
      ]
     },
     "metadata": {},
     "output_type": "display_data"
    }
   ],
   "source": [
    "plt.hist(bs_mean_diffs)\n",
    "plt.title('mean difference between summary and non summary sentences')\n",
    "plt.axvline(conf_int[0], color = 'red')\n",
    "plt.axvline(conf_int[1], color = 'red')\n",
    "#plt.axvline(mean_diff, color = 'green')\n",
    "plt.show()"
   ]
  },
  {
   "cell_type": "markdown",
   "metadata": {},
   "source": [
    "**Null hypothesis**: There is no difference the average sentence length of a summary sentence and the average sentence length of a non summary sentence.\n",
    "\n",
    "**Alternative hypothesis**:There is a difference the average sentence length of a summary sentence and the average sentence length of a non summary sentence.\n",
    "\n",
    "The confidence interval is the following: the p-value = 0: we can reject the null hypothesis and assume the average sentence length for a summary sentence is significantly smaller than the sentence length for a non summary sentence\n",
    "\n"
   ]
  },
  {
   "cell_type": "markdown",
   "metadata": {},
   "source": [
    "## Testing the difference in proportions of top common word between summary sentences and non summary sentences (Permutation Test)"
   ]
  },
  {
   "cell_type": "code",
   "execution_count": 233,
   "metadata": {},
   "outputs": [],
   "source": [
    "top_occurences = ['help','use','get', 'make','like','need', 'take', 'try', \n",
    "                  'avoid','keep', 'want', 'many', 'ask', 'good', 'find', 'work', \n",
    "                  'go', 'include', 'important', 'know']"
   ]
  },
  {
   "cell_type": "code",
   "execution_count": 235,
   "metadata": {},
   "outputs": [],
   "source": [
    "#Calculating means of 0-1 for summary category and non summary category\n",
    "occurence_means_summary = dict()\n",
    "occurence_means_no_summary = dict()\n",
    "for occurence in top_occurences:\n",
    "    mean_summary = wikihow_subset[wikihow_subset['is_summary']=='yes'][occurence].mean()\n",
    "    occurence_means_summary[occurence] = mean_summary\n",
    "    \n",
    "    mean_no_summary = wikihow_subset[wikihow_subset['is_summary']=='no'][occurence].mean()\n",
    "    occurence_means_no_summary[occurence] = mean_no_summary"
   ]
  },
  {
   "cell_type": "code",
   "execution_count": 236,
   "metadata": {},
   "outputs": [],
   "source": [
    "summary_mean = pd.DataFrame(occurence_means_summary.items(), columns = ['word','mean'])"
   ]
  },
  {
   "cell_type": "code",
   "execution_count": 237,
   "metadata": {},
   "outputs": [],
   "source": [
    "no_summary_mean = pd.DataFrame(occurence_means_no_summary.items(), columns = ['word','mean'])"
   ]
  },
  {
   "cell_type": "code",
   "execution_count": 238,
   "metadata": {},
   "outputs": [
    {
     "data": {
      "text/plain": [
       "<matplotlib.legend.Legend at 0x1207d0588>"
      ]
     },
     "execution_count": 238,
     "metadata": {},
     "output_type": "execute_result"
    },
    {
     "data": {
      "image/png": "[encoded data removed]",
      "text/plain": [
       "<Figure size 1440x720 with 1 Axes>"
      ]
     },
     "metadata": {},
     "output_type": "display_data"
    },
    {
     "data": {
      "text/plain": [
       "<Figure size 1440x2880 with 0 Axes>"
      ]
     },
     "metadata": {},
     "output_type": "display_data"
    }
   ],
   "source": [
    "labels = top_occurences\n",
    "summary_means = summary_mean['mean']\n",
    "non_summary_means = no_summary_mean['mean']\n",
    "\n",
    "x = np.arange(len(labels))  # the label locations\n",
    "width = 0.40  # the width of the bars\n",
    "\n",
    "fig, ax = plt.subplots(figsize=(20,10))\n",
    "plt.figure(figsize=(20,40))\n",
    "rects1 = ax.bar(x - width/2, summary_means, width, label='Summary')\n",
    "rects2 = ax.bar(x + width/2, non_summary_means, width, label='No Summary')\n",
    "\n",
    "# Add some text for labels, title and custom x-axis tick labels, etc.\n",
    "ax.set_ylabel('Word')\n",
    "ax.set_title('Proportion of most frequent words in sentences for summary and no summary sentences.')\n",
    "ax.set_xticks(x)\n",
    "ax.set_xticklabels(labels, rotation='vertical')\n",
    "ax.legend()"
   ]
  },
  {
   "cell_type": "markdown",
   "metadata": {},
   "source": [
    "Let's pick the word `use` for example, how likely is it that this word is more present in summary sentences ?"
   ]
  },
  {
   "cell_type": "code",
   "execution_count": 239,
   "metadata": {},
   "outputs": [],
   "source": [
    "def diff_prop(data_a, data_b):\n",
    "    frac_a = np.sum(data_a) / len(data_a)\n",
    "    frac_b = np.sum(data_b) / len(data_b)\n",
    "    \n",
    "    return frac_b - frac_a "
   ]
  },
  {
   "cell_type": "code",
   "execution_count": 240,
   "metadata": {},
   "outputs": [],
   "source": [
    "use_summary = wikihow_subset[wikihow_subset['is_summary']== 'yes']['use']\n",
    "use_no_summary = wikihow_subset[wikihow_subset['is_summary']== 'no']['use']"
   ]
  },
  {
   "cell_type": "code",
   "execution_count": 241,
   "metadata": {},
   "outputs": [
    {
     "data": {
      "text/plain": [
       "-0.040137167478545385"
      ]
     },
     "execution_count": 241,
     "metadata": {},
     "output_type": "execute_result"
    }
   ],
   "source": [
    "diff_prop_obs_use = diff_prop(use_summary, use_no_summary)\n",
    "diff_prop_obs_use"
   ]
  },
  {
   "cell_type": "code",
   "execution_count": 242,
   "metadata": {},
   "outputs": [],
   "source": [
    "def permutation_sample(data1, data2):\n",
    "    \"\"\"Generate a permutation sample from two data sets.\"\"\"\n",
    "\n",
    "    # Concatenate the data sets: data\n",
    "    data = np.concatenate((data1, data2))\n",
    "\n",
    "    # Permute the concatenated array: permuted_data\n",
    "    permuted_data = np.random.permutation(data)\n",
    "\n",
    "    # Split the permuted array into two: perm_sample_1, perm_sample_2\n",
    "    perm_sample_1 = permuted_data[:len(data1)]\n",
    "    perm_sample_2 = permuted_data[len(data1):]\n",
    "\n",
    "    return perm_sample_1, perm_sample_2"
   ]
  },
  {
   "cell_type": "code",
   "execution_count": 243,
   "metadata": {},
   "outputs": [],
   "source": [
    "def draw_perm_reps(data_1, data_2, func, size=1):\n",
    "    \"\"\"Generate multiple permutation replicates.\"\"\"\n",
    "\n",
    "    # Initialize array of replicates: perm_replicates\n",
    "    perm_replicates = np.empty(size)\n",
    "\n",
    "    for i in range(size):\n",
    "        # Generate permutation sample\n",
    "        perm_sample_1, perm_sample_2 = permutation_sample(data_1, data_2)\n",
    "\n",
    "        # Compute the test statistic\n",
    "        perm_replicates[i] = func(perm_sample_1, perm_sample_2)\n",
    "\n",
    "    return perm_replicates"
   ]
  },
  {
   "cell_type": "code",
   "execution_count": 244,
   "metadata": {},
   "outputs": [],
   "source": [
    "perm_replicates = np.empty(10000)\n",
    "for i in range(10000):\n",
    "    perm_replicates[i] = draw_perm_reps(use_summary, use_no_summary, diff_prop)"
   ]
  },
  {
   "cell_type": "code",
   "execution_count": 245,
   "metadata": {},
   "outputs": [],
   "source": [
    "p_value = np.sum(perm_replicates >= diff_prop_obs_use) / len(perm_replicates)"
   ]
  },
  {
   "cell_type": "code",
   "execution_count": 246,
   "metadata": {},
   "outputs": [
    {
     "data": {
      "text/plain": [
       "1.0"
      ]
     },
     "execution_count": 246,
     "metadata": {},
     "output_type": "execute_result"
    }
   ],
   "source": [
    "p_value"
   ]
  },
  {
   "cell_type": "markdown",
   "metadata": {},
   "source": [
    "The p-value here is so high that we cannot reject the null hypothesis: the word 'use' is not significantly more present in summary sentences."
   ]
  },
  {
   "cell_type": "markdown",
   "metadata": {},
   "source": [
    "## Testing for Independence \n",
    "* Between `is_summary` and `title_sim_categories`(Chi-Square test)\n",
    "* Between `tfidf_score` and `title_similarity` (Pearson correlation tests)"
   ]
  },
  {
   "cell_type": "markdown",
   "metadata": {},
   "source": [
    "### Chi Square test"
   ]
  },
  {
   "cell_type": "code",
   "execution_count": 262,
   "metadata": {},
   "outputs": [],
   "source": [
    "table, results = rp.crosstab(wikihow_subset['title_sim_categories'], wikihow_subset['is_summary'], prop= 'col', test= 'chi-square')"
   ]
  },
  {
   "cell_type": "code",
   "execution_count": 249,
   "metadata": {},
   "outputs": [
    {
     "data": {
      "text/html": [
       "<div>\n",
       "<style scoped>\n",
       "    .dataframe tbody tr th:only-of-type {\n",
       "        vertical-align: middle;\n",
       "    }\n",
       "\n",
       "    .dataframe tbody tr th {\n",
       "        vertical-align: top;\n",
       "    }\n",
       "\n",
       "    .dataframe thead tr th {\n",
       "        text-align: left;\n",
       "    }\n",
       "\n",
       "    .dataframe thead tr:last-of-type th {\n",
       "        text-align: right;\n",
       "    }\n",
       "</style>\n",
       "<table border=\"1\" class=\"dataframe\">\n",
       "  <thead>\n",
       "    <tr>\n",
       "      <th></th>\n",
       "      <th colspan=\"3\" halign=\"left\">is_summary</th>\n",
       "    </tr>\n",
       "    <tr>\n",
       "      <th></th>\n",
       "      <th>no</th>\n",
       "      <th>yes</th>\n",
       "      <th>All</th>\n",
       "    </tr>\n",
       "    <tr>\n",
       "      <th>title_sim_categories</th>\n",
       "      <th></th>\n",
       "      <th></th>\n",
       "      <th></th>\n",
       "    </tr>\n",
       "  </thead>\n",
       "  <tbody>\n",
       "    <tr>\n",
       "      <th>Medium</th>\n",
       "      <td>15.10</td>\n",
       "      <td>39.93</td>\n",
       "      <td>19.21</td>\n",
       "    </tr>\n",
       "    <tr>\n",
       "      <th>None</th>\n",
       "      <td>0.14</td>\n",
       "      <td>0.16</td>\n",
       "      <td>0.14</td>\n",
       "    </tr>\n",
       "    <tr>\n",
       "      <th>Strong</th>\n",
       "      <td>79.79</td>\n",
       "      <td>51.90</td>\n",
       "      <td>75.17</td>\n",
       "    </tr>\n",
       "    <tr>\n",
       "      <th>Very Strong</th>\n",
       "      <td>3.64</td>\n",
       "      <td>1.47</td>\n",
       "      <td>3.28</td>\n",
       "    </tr>\n",
       "    <tr>\n",
       "      <th>Weak</th>\n",
       "      <td>1.34</td>\n",
       "      <td>6.54</td>\n",
       "      <td>2.20</td>\n",
       "    </tr>\n",
       "    <tr>\n",
       "      <th>All</th>\n",
       "      <td>100.00</td>\n",
       "      <td>100.00</td>\n",
       "      <td>100.00</td>\n",
       "    </tr>\n",
       "  </tbody>\n",
       "</table>\n",
       "</div>"
      ],
      "text/plain": [
       "                     is_summary                \n",
       "                             no     yes     All\n",
       "title_sim_categories                           \n",
       "Medium                    15.10   39.93   19.21\n",
       "None                       0.14    0.16    0.14\n",
       "Strong                    79.79   51.90   75.17\n",
       "Very Strong                3.64    1.47    3.28\n",
       "Weak                       1.34    6.54    2.20\n",
       "All                      100.00  100.00  100.00"
      ]
     },
     "execution_count": 249,
     "metadata": {},
     "output_type": "execute_result"
    }
   ],
   "source": [
    "table"
   ]
  },
  {
   "cell_type": "code",
   "execution_count": 250,
   "metadata": {},
   "outputs": [
    {
     "data": {
      "text/html": [
       "<div>\n",
       "<style scoped>\n",
       "    .dataframe tbody tr th:only-of-type {\n",
       "        vertical-align: middle;\n",
       "    }\n",
       "\n",
       "    .dataframe tbody tr th {\n",
       "        vertical-align: top;\n",
       "    }\n",
       "\n",
       "    .dataframe thead th {\n",
       "        text-align: right;\n",
       "    }\n",
       "</style>\n",
       "<table border=\"1\" class=\"dataframe\">\n",
       "  <thead>\n",
       "    <tr style=\"text-align: right;\">\n",
       "      <th></th>\n",
       "      <th>Chi-square test</th>\n",
       "      <th>results</th>\n",
       "    </tr>\n",
       "  </thead>\n",
       "  <tbody>\n",
       "    <tr>\n",
       "      <th>0</th>\n",
       "      <td>Pearson Chi-square ( 4.0) =</td>\n",
       "      <td>7766.2301</td>\n",
       "    </tr>\n",
       "    <tr>\n",
       "      <th>1</th>\n",
       "      <td>p-value =</td>\n",
       "      <td>0.0000</td>\n",
       "    </tr>\n",
       "    <tr>\n",
       "      <th>2</th>\n",
       "      <td>Cramer's V =</td>\n",
       "      <td>0.2787</td>\n",
       "    </tr>\n",
       "  </tbody>\n",
       "</table>\n",
       "</div>"
      ],
      "text/plain": [
       "                Chi-square test    results\n",
       "0  Pearson Chi-square ( 4.0) =   7766.2301\n",
       "1                    p-value =      0.0000\n",
       "2                 Cramer's V =      0.2787"
      ]
     },
     "execution_count": 250,
     "metadata": {},
     "output_type": "execute_result"
    }
   ],
   "source": [
    "results"
   ]
  },
  {
   "cell_type": "markdown",
   "metadata": {},
   "source": [
    "The null hypothesis is rejected, since p < 0.000, and a conclusion is made that `title_sim` is associated with `is_summary`"
   ]
  },
  {
   "cell_type": "markdown",
   "metadata": {},
   "source": [
    "### Pearson correlation test"
   ]
  },
  {
   "cell_type": "code",
   "execution_count": 252,
   "metadata": {},
   "outputs": [],
   "source": [
    "def pearson_r(x, y):\n",
    "    \"\"\"Compute Pearson correlation coefficient between two arrays.\"\"\"\n",
    "    # Compute correlation matrix: corr_mat\n",
    "    corr_mat = np.corrcoef(x,y)\n",
    "\n",
    "\n",
    "    # Return entry [0,1]\n",
    "    return corr_mat[0,1]"
   ]
  },
  {
   "cell_type": "code",
   "execution_count": 253,
   "metadata": {},
   "outputs": [],
   "source": [
    "tfidf_score = wikihow_subset['tfidf_score']\n",
    "title_similarity = tfidf_score = wikihow_subset['title_similarity']"
   ]
  },
  {
   "cell_type": "code",
   "execution_count": 254,
   "metadata": {},
   "outputs": [
    {
     "data": {
      "text/plain": [
       "Text(0, 0.5, 'title_similarity')"
      ]
     },
     "execution_count": 254,
     "metadata": {},
     "output_type": "execute_result"
    },
    {
     "data": {
      "image/png": "[encoded data removed]",
      "text/plain": [
       "<Figure size 1440x720 with 1 Axes>"
      ]
     },
     "metadata": {},
     "output_type": "display_data"
    }
   ],
   "source": [
    "#Scatter plot\n",
    "plt.figure(figsize=(20,10))\n",
    "# Make a scatter plot\n",
    "plt.plot(tfidf_score, title_similarity, marker = '.', linestyle = 'none')\n",
    "\n",
    "# Label the axes\n",
    "plt.xlabel('tf-idf')\n",
    "plt.ylabel('title_similarity')"
   ]
  },
  {
   "cell_type": "markdown",
   "metadata": {},
   "source": [
    "These two variables look like they are positively correlated"
   ]
  },
  {
   "cell_type": "code",
   "execution_count": 255,
   "metadata": {},
   "outputs": [],
   "source": [
    "# Compute observed correlation: r_obs\n",
    "r_obs = pearson_r(tfidf_score, title_similarity)"
   ]
  },
  {
   "cell_type": "code",
   "execution_count": 256,
   "metadata": {},
   "outputs": [],
   "source": [
    "# Initialize permutation replicates: perm_replicates\n",
    "perm_replicates = np.empty(10000)"
   ]
  },
  {
   "cell_type": "code",
   "execution_count": 257,
   "metadata": {},
   "outputs": [],
   "source": [
    "# Draw replicates\n",
    "for i in range(10000):\n",
    "    # Permute illiteracy measurments: illiteracy_permuted\n",
    "    tfidf_permuted = np.random.permutation(tfidf_score)\n",
    "    \n",
    "    # Compute Pearson correlation\n",
    "    perm_replicates[i] = pearson_r(tfidf_permuted, title_similarity)"
   ]
  },
  {
   "cell_type": "code",
   "execution_count": 258,
   "metadata": {},
   "outputs": [
    {
     "data": {
      "text/plain": [
       "0.0"
      ]
     },
     "execution_count": 258,
     "metadata": {},
     "output_type": "execute_result"
    }
   ],
   "source": [
    "# Compute p-value: p\n",
    "p = np.sum(perm_replicates >= r_obs)/len(perm_replicates)\n",
    "p"
   ]
  },
  {
   "cell_type": "markdown",
   "metadata": {},
   "source": [
    "The p-value here is quite signifcant which makes our two variables `tfidf_score` and `title_similarity` dependent."
   ]
  }
 ],
 "metadata": {
  "kernelspec": {
   "display_name": "Python 3",
   "language": "python",
   "name": "python3"
  },
  "language_info": {
   "codemirror_mode": {
    "name": "ipython",
    "version": 3
   },
   "file_extension": ".py",
   "mimetype": "text/x-python",
   "name": "python",
   "nbconvert_exporter": "python",
   "pygments_lexer": "ipython3",
   "version": "3.7.0"
  }
 },
 "nbformat": 4,
 "nbformat_minor": 2
}
