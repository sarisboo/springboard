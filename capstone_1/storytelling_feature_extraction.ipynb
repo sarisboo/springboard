{
 "cells": [
  {
   "cell_type": "code",
   "execution_count": 3,
   "metadata": {},
   "outputs": [],
   "source": [
    "import numpy as np\n",
    "import pandas as pd\n",
    "import warnings\n",
    "warnings.simplefilter(action='ignore')\n",
    "from sklearn.feature_extraction.text import TfidfVectorizer"
   ]
  },
  {
   "cell_type": "code",
   "execution_count": 4,
   "metadata": {},
   "outputs": [],
   "source": [
    "# Importing cleaned dataset\n",
    "wikihow = pd.read_csv('./datasets/clean_wikihow_sep.csv')"
   ]
  },
  {
   "cell_type": "code",
   "execution_count": 5,
   "metadata": {},
   "outputs": [],
   "source": [
    "wikihow = wikihow[['text_id', 'sentence', 'is_summary', 'words', 'title', 'sentence_len']]"
   ]
  },
  {
   "cell_type": "code",
   "execution_count": 7,
   "metadata": {},
   "outputs": [
    {
     "data": {
      "text/html": [
       "<div>\n",
       "<style scoped>\n",
       "    .dataframe tbody tr th:only-of-type {\n",
       "        vertical-align: middle;\n",
       "    }\n",
       "\n",
       "    .dataframe tbody tr th {\n",
       "        vertical-align: top;\n",
       "    }\n",
       "\n",
       "    .dataframe thead th {\n",
       "        text-align: right;\n",
       "    }\n",
       "</style>\n",
       "<table border=\"1\" class=\"dataframe\">\n",
       "  <thead>\n",
       "    <tr style=\"text-align: right;\">\n",
       "      <th></th>\n",
       "      <th>text_id</th>\n",
       "      <th>sentence</th>\n",
       "      <th>is_summary</th>\n",
       "      <th>words</th>\n",
       "      <th>title</th>\n",
       "      <th>sentence_len</th>\n",
       "    </tr>\n",
       "  </thead>\n",
       "  <tbody>\n",
       "    <tr>\n",
       "      <th>0</th>\n",
       "      <td>0</td>\n",
       "      <td>Sell yourself first</td>\n",
       "      <td>yes</td>\n",
       "      <td>['Sell', 'yourself', 'first']</td>\n",
       "      <td>How to Sell Fine Art Online</td>\n",
       "      <td>3</td>\n",
       "    </tr>\n",
       "    <tr>\n",
       "      <th>1</th>\n",
       "      <td>0</td>\n",
       "      <td>Before doing anything else, stop and sum up yo...</td>\n",
       "      <td>no</td>\n",
       "      <td>['Before', 'doing', 'anything', 'else,', 'stop...</td>\n",
       "      <td>How to Sell Fine Art Online</td>\n",
       "      <td>12</td>\n",
       "    </tr>\n",
       "    <tr>\n",
       "      <th>2</th>\n",
       "      <td>0</td>\n",
       "      <td>Now, think about how to translate that to an o...</td>\n",
       "      <td>no</td>\n",
       "      <td>['Now,', 'think', 'about', 'how', 'to', 'trans...</td>\n",
       "      <td>How to Sell Fine Art Online</td>\n",
       "      <td>11</td>\n",
       "    </tr>\n",
       "    <tr>\n",
       "      <th>3</th>\n",
       "      <td>0</td>\n",
       "      <td>Be it the few words, Twitter allows you or an ...</td>\n",
       "      <td>no</td>\n",
       "      <td>['Be', 'it', 'the', 'few', 'words,', 'Twitter'...</td>\n",
       "      <td>How to Sell Fine Art Online</td>\n",
       "      <td>21</td>\n",
       "    </tr>\n",
       "    <tr>\n",
       "      <th>4</th>\n",
       "      <td>0</td>\n",
       "      <td>Bring out the most salient features of your cr...</td>\n",
       "      <td>no</td>\n",
       "      <td>['Bring', 'out', 'the', 'most', 'salient', 'fe...</td>\n",
       "      <td>How to Sell Fine Art Online</td>\n",
       "      <td>18</td>\n",
       "    </tr>\n",
       "  </tbody>\n",
       "</table>\n",
       "</div>"
      ],
      "text/plain": [
       "   text_id                                           sentence is_summary  \\\n",
       "0        0                                Sell yourself first        yes   \n",
       "1        0  Before doing anything else, stop and sum up yo...         no   \n",
       "2        0  Now, think about how to translate that to an o...         no   \n",
       "3        0  Be it the few words, Twitter allows you or an ...         no   \n",
       "4        0  Bring out the most salient features of your cr...         no   \n",
       "\n",
       "                                               words  \\\n",
       "0                      ['Sell', 'yourself', 'first']   \n",
       "1  ['Before', 'doing', 'anything', 'else,', 'stop...   \n",
       "2  ['Now,', 'think', 'about', 'how', 'to', 'trans...   \n",
       "3  ['Be', 'it', 'the', 'few', 'words,', 'Twitter'...   \n",
       "4  ['Bring', 'out', 'the', 'most', 'salient', 'fe...   \n",
       "\n",
       "                         title  sentence_len  \n",
       "0  How to Sell Fine Art Online             3  \n",
       "1  How to Sell Fine Art Online            12  \n",
       "2  How to Sell Fine Art Online            11  \n",
       "3  How to Sell Fine Art Online            21  \n",
       "4  How to Sell Fine Art Online            18  "
      ]
     },
     "execution_count": 7,
     "metadata": {},
     "output_type": "execute_result"
    }
   ],
   "source": [
    "wikihow.head()"
   ]
  },
  {
   "cell_type": "markdown",
   "metadata": {},
   "source": [
    "## Surface Features\n",
    "\n",
    "Surface features are usually features based on structure of documents or sentences like position in document or paragraph, length (number of words in the sentence) or number of quoted words in a sentence. This comes with the intuition that sentences are more important is the number of words with theh exception of stopwords is within a certain range x or the sentences containing too many quoted words are less important. "
   ]
  },
  {
   "cell_type": "code",
   "execution_count": 8,
   "metadata": {},
   "outputs": [],
   "source": [
    "# Delete nas just in case\n",
    "wikihow = wikihow.dropna()"
   ]
  },
  {
   "cell_type": "markdown",
   "metadata": {},
   "source": [
    "## Content Features\n",
    "### Computing TF-IDF sentence scores\n"
   ]
  },
  {
   "cell_type": "code",
   "execution_count": 9,
   "metadata": {},
   "outputs": [],
   "source": [
    "#extracting paragraphs\n",
    "docs = wikihow.groupby('text_id')['sentence'].apply(list)"
   ]
  },
  {
   "cell_type": "code",
   "execution_count": 11,
   "metadata": {},
   "outputs": [
    {
     "data": {
      "text/plain": [
       "text_id\n",
       "0    [Sell yourself first, Before doing anything el...\n",
       "1    [Read the classics before 1600, Reading the cl...\n",
       "2    [Join online artist communities, Depending on ...\n",
       "3    [Make yourself public, Get yourself out there ...\n",
       "4    [Blog about your artwork, Given the hundreds o...\n",
       "Name: sentence, dtype: object"
      ]
     },
     "execution_count": 11,
     "metadata": {},
     "output_type": "execute_result"
    }
   ],
   "source": [
    "docs.head()"
   ]
  },
  {
   "cell_type": "code",
   "execution_count": 16,
   "metadata": {},
   "outputs": [
    {
     "data": {
      "text/plain": [
       "7284000"
      ]
     },
     "execution_count": 16,
     "metadata": {},
     "output_type": "execute_result"
    }
   ],
   "source": [
    "tf_idf_list = []\n",
    "vectorizer = TfidfVectorizer()\n",
    "for doc in docs:\n",
    "    vectors = vectorizer.fit_transform(doc).toarray()\n",
    "    for vector in vectors:\n",
    "        tfidf_sent = np.sum(vector)\n",
    "        tf_idf_list.append(tfidf_sent)\n",
    "len(tf_idf_list)"
   ]
  },
  {
   "cell_type": "code",
   "execution_count": 18,
   "metadata": {},
   "outputs": [],
   "source": [
    "wikihow['tfidf_score'] = tf_idf_list"
   ]
  },
  {
   "cell_type": "code",
   "execution_count": 21,
   "metadata": {},
   "outputs": [
    {
     "data": {
      "text/html": [
       "<div>\n",
       "<style scoped>\n",
       "    .dataframe tbody tr th:only-of-type {\n",
       "        vertical-align: middle;\n",
       "    }\n",
       "\n",
       "    .dataframe tbody tr th {\n",
       "        vertical-align: top;\n",
       "    }\n",
       "\n",
       "    .dataframe thead th {\n",
       "        text-align: right;\n",
       "    }\n",
       "</style>\n",
       "<table border=\"1\" class=\"dataframe\">\n",
       "  <thead>\n",
       "    <tr style=\"text-align: right;\">\n",
       "      <th></th>\n",
       "      <th>text_id</th>\n",
       "      <th>sentence</th>\n",
       "      <th>is_summary</th>\n",
       "      <th>words</th>\n",
       "      <th>title</th>\n",
       "      <th>sentence_len</th>\n",
       "      <th>tfidf_score</th>\n",
       "    </tr>\n",
       "  </thead>\n",
       "  <tbody>\n",
       "    <tr>\n",
       "      <th>0</th>\n",
       "      <td>0</td>\n",
       "      <td>Sell yourself first</td>\n",
       "      <td>yes</td>\n",
       "      <td>['Sell', 'yourself', 'first']</td>\n",
       "      <td>How to Sell Fine Art Online</td>\n",
       "      <td>3</td>\n",
       "      <td>1.725841</td>\n",
       "    </tr>\n",
       "    <tr>\n",
       "      <th>1</th>\n",
       "      <td>0</td>\n",
       "      <td>Before doing anything else, stop and sum up yo...</td>\n",
       "      <td>no</td>\n",
       "      <td>['Before', 'doing', 'anything', 'else,', 'stop...</td>\n",
       "      <td>How to Sell Fine Art Online</td>\n",
       "      <td>12</td>\n",
       "      <td>3.421057</td>\n",
       "    </tr>\n",
       "    <tr>\n",
       "      <th>2</th>\n",
       "      <td>0</td>\n",
       "      <td>Now, think about how to translate that to an o...</td>\n",
       "      <td>no</td>\n",
       "      <td>['Now,', 'think', 'about', 'how', 'to', 'trans...</td>\n",
       "      <td>How to Sell Fine Art Online</td>\n",
       "      <td>11</td>\n",
       "      <td>3.064425</td>\n",
       "    </tr>\n",
       "    <tr>\n",
       "      <th>3</th>\n",
       "      <td>0</td>\n",
       "      <td>Be it the few words, Twitter allows you or an ...</td>\n",
       "      <td>no</td>\n",
       "      <td>['Be', 'it', 'the', 'few', 'words,', 'Twitter'...</td>\n",
       "      <td>How to Sell Fine Art Online</td>\n",
       "      <td>21</td>\n",
       "      <td>4.393483</td>\n",
       "    </tr>\n",
       "    <tr>\n",
       "      <th>4</th>\n",
       "      <td>0</td>\n",
       "      <td>Bring out the most salient features of your cr...</td>\n",
       "      <td>no</td>\n",
       "      <td>['Bring', 'out', 'the', 'most', 'salient', 'fe...</td>\n",
       "      <td>How to Sell Fine Art Online</td>\n",
       "      <td>18</td>\n",
       "      <td>3.500784</td>\n",
       "    </tr>\n",
       "  </tbody>\n",
       "</table>\n",
       "</div>"
      ],
      "text/plain": [
       "   text_id                                           sentence is_summary  \\\n",
       "0        0                                Sell yourself first        yes   \n",
       "1        0  Before doing anything else, stop and sum up yo...         no   \n",
       "2        0  Now, think about how to translate that to an o...         no   \n",
       "3        0  Be it the few words, Twitter allows you or an ...         no   \n",
       "4        0  Bring out the most salient features of your cr...         no   \n",
       "\n",
       "                                               words  \\\n",
       "0                      ['Sell', 'yourself', 'first']   \n",
       "1  ['Before', 'doing', 'anything', 'else,', 'stop...   \n",
       "2  ['Now,', 'think', 'about', 'how', 'to', 'trans...   \n",
       "3  ['Be', 'it', 'the', 'few', 'words,', 'Twitter'...   \n",
       "4  ['Bring', 'out', 'the', 'most', 'salient', 'fe...   \n",
       "\n",
       "                         title  sentence_len  tfidf_score  \n",
       "0  How to Sell Fine Art Online             3     1.725841  \n",
       "1  How to Sell Fine Art Online            12     3.421057  \n",
       "2  How to Sell Fine Art Online            11     3.064425  \n",
       "3  How to Sell Fine Art Online            21     4.393483  \n",
       "4  How to Sell Fine Art Online            18     3.500784  "
      ]
     },
     "execution_count": 21,
     "metadata": {},
     "output_type": "execute_result"
    }
   ],
   "source": [
    "wikihow.head()"
   ]
  },
  {
   "cell_type": "markdown",
   "metadata": {},
   "source": [
    "## Semantic Similarity Features "
   ]
  }
 ],
 "metadata": {
  "kernelspec": {
   "display_name": "Python 3",
   "language": "python",
   "name": "python3"
  },
  "language_info": {
   "codemirror_mode": {
    "name": "ipython",
    "version": 3
   },
   "file_extension": ".py",
   "mimetype": "text/x-python",
   "name": "python",
   "nbconvert_exporter": "python",
   "pygments_lexer": "ipython3",
   "version": "3.7.0"
  }
 },
 "nbformat": 4,
 "nbformat_minor": 2
}
